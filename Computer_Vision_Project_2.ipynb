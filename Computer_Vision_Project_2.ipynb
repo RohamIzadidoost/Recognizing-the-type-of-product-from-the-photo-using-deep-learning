{
  "cells": [
    {
      "cell_type": "code",
      "execution_count": 1,
      "metadata": {
        "colab": {
          "base_uri": "https://localhost:8080/"
        },
        "id": "EFC4u7z00eZ0",
        "outputId": "5d247bb4-cd59-496c-eceb-60a46a4ac0f9"
      },
      "outputs": [
        {
          "output_type": "stream",
          "name": "stdout",
          "text": [
            "Downloading...\n",
            "From: https://drive.google.com/uc?id=1O4YR4UBatOLnaP4gMHbmFw7UJvhhxFwq\n",
            "To: /content/train_data.zip\n",
            "100% 173M/173M [00:05<00:00, 30.2MB/s]\n",
            "Downloading...\n",
            "From: https://drive.google.com/uc?id=1-7aMdKW4KcCKLwoUKC3XxdIwfIKkzwx6\n",
            "To: /content/test_data.zip\n",
            "100% 73.0M/73.0M [00:02<00:00, 25.1MB/s]\n"
          ]
        }
      ],
      "source": [
        "!gdown 1O4YR4UBatOLnaP4gMHbmFw7UJvhhxFwq\n",
        "!gdown 1-7aMdKW4KcCKLwoUKC3XxdIwfIKkzwx6\n",
        "!unzip -q train_data.zip\n",
        "!unzip -q test_data.zip"
      ]
    },
    {
      "cell_type": "code",
      "execution_count": null,
      "metadata": {
        "id": "qRMUT6ZW5bUK"
      },
      "outputs": [],
      "source": [
        "import tensorflow as tf\n",
        "from keras.preprocessing.image import ImageDataGenerator\n",
        "from keras.models import Sequential\n",
        "from keras.layers import GlobalAveragePooling2D, Dense, BatchNormalization\n",
        "from keras.applications import EfficientNetV2L\n",
        "from keras.callbacks import EarlyStopping\n",
        "\n",
        "data_dir = '/content/train_data'\n",
        "input_size = (480, 480)\n",
        "\n",
        "train_datagen = ImageDataGenerator(vertical_flip=True,\n",
        "                                   horizontal_flip=True,\n",
        "                                   width_shift_range=0.2,\n",
        "                                   height_shift_range=0.2,\n",
        "                                   validation_split=0.2)\n",
        "\n",
        "valid_datagen = ImageDataGenerator(validation_split=0.2)\n",
        "\n",
        "train_generator = train_datagen.flow_from_directory(\n",
        "        data_dir,\n",
        "        target_size=input_size,\n",
        "        batch_size=64,\n",
        "        class_mode='categorical',\n",
        "        subset='training',\n",
        "        seed=22)\n",
        "\n",
        "validation_generator = valid_datagen.flow_from_directory(\n",
        "        data_dir,\n",
        "        target_size=input_size,\n",
        "        batch_size=64,\n",
        "        class_mode='categorical',\n",
        "        subset='validation',\n",
        "        seed=22)\n",
        "\n",
        "# Load the pre-trained EfficientNetV2 model\n",
        "base_model = EfficientNetV2L(include_top=False, weights='imagenet', input_shape=(480, 480, 3))\n",
        "\n",
        "# Freeze the layers of the pre-trained model\n",
        "for layer in base_model.layers:\n",
        "    layer.trainable = False\n",
        "\n",
        "model = Sequential()\n",
        "model.add(base_model)\n",
        "model.add(GlobalAveragePooling2D())\n",
        "model.add(Dense(1024, activation='relu'))\n",
        "model.add(BatchNormalization())\n",
        "model.add(Dense(512, activation='relu'))\n",
        "model.add(BatchNormalization())\n",
        "model.add(Dense(256, activation='relu'))\n",
        "model.add(Dense(64, activation='relu'))\n",
        "model.add(Dense(10, activation='softmax'))\n",
        "\n",
        "model.compile(optimizer='adam', loss='categorical_crossentropy', metrics=['accuracy'])\n",
        "\n",
        "early_stopping = EarlyStopping(monitor = 'val_accuracy',\n",
        "                               patience=3,\n",
        "                               restore_best_weights=True)\n",
        "\n",
        "model.fit(train_generator, epochs=10, validation_data=validation_generator, callbacks=[early_stopping])"
      ]
    },
    {
      "cell_type": "markdown",
      "source": [
        "#### Predictions on test data"
      ],
      "metadata": {
        "id": "YmfUeClN-HeM"
      }
    },
    {
      "cell_type": "code",
      "source": [
        "from PIL import Image\n",
        "import os\n",
        "import numpy as np\n",
        "from tqdm import tqdm\n",
        "\n",
        "def read_and_resize_images(folder_path):\n",
        "    image_files = [f for f in os.listdir(folder_path) if os.path.isfile(os.path.join(folder_path, f))]\n",
        "\n",
        "    resized_images = np.empty((len(image_files), 480, 480, 3), dtype=np.uint8)\n",
        "\n",
        "    for i, image_file in tqdm(enumerate(image_files)):\n",
        "        image_path = os.path.join(folder_path, image_file)\n",
        "\n",
        "        img = Image.open(image_path)\n",
        "\n",
        "        img = img.resize((480, 480))\n",
        "\n",
        "        resized_images[i] = np.array(img)\n",
        "\n",
        "    return resized_images\n",
        "\n",
        "folder_path = '/kaggle/working/test_data'\n",
        "resized_images_array = read_and_resize_images(folder_path)"
      ],
      "metadata": {
        "id": "OHa1J7SR-JlP"
      },
      "execution_count": null,
      "outputs": []
    },
    {
      "cell_type": "code",
      "source": [
        "preds = model.predict(resized_images_array)\n",
        "preds = np.argmax(preds, axis=1)\n",
        "preds += 1"
      ],
      "metadata": {
        "id": "0cqkTddR-YUw"
      },
      "execution_count": null,
      "outputs": []
    },
    {
      "cell_type": "code",
      "source": [
        "import os\n",
        "import pandas as pd\n",
        "\n",
        "\n",
        "file_names = os.listdir('/kaggle/working/test_data')\n",
        "\n",
        "df = pd.DataFrame({'name': file_names})\n",
        "df['predicted'] = preds\n",
        "\n",
        "df.to_csv('q1_submission.csv', index=False)"
      ],
      "metadata": {
        "id": "hgGHYpiP-hOZ"
      },
      "execution_count": null,
      "outputs": []
    }
  ],
  "metadata": {
    "accelerator": "GPU",
    "colab": {
      "provenance": [],
      "gpuType": "T4"
    },
    "kernelspec": {
      "display_name": "Python 3",
      "name": "python3"
    },
    "language_info": {
      "name": "python"
    }
  },
  "nbformat": 4,
  "nbformat_minor": 0
}